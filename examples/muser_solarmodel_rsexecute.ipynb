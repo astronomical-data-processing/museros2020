{
 "cells": [
  {
   "cell_type": "code",
   "execution_count": 1,
   "metadata": {
    "ExecuteTime": {
     "end_time": "2020-10-08T14:27:01.015357Z",
     "start_time": "2020-10-08T14:26:59.550654Z"
    }
   },
   "outputs": [],
   "source": [
    "import logging\n",
    "import sys\n",
    "\n",
    "import numpy\n",
    "\n",
    "from matplotlib import pylab\n",
    "\n",
    "pylab.rcParams['figure.figsize'] = (8.0, 8.0)\n",
    "pylab.rcParams['image.cmap'] = 'rainbow'\n",
    "\n",
    "import matplotlib.pyplot as plt\n",
    "\n",
    "import astropy.constants as constants\n",
    "\n",
    "from rascil.data_models import PolarisationFrame\n",
    "from rascil.processing_components import create_blockvisibility_from_ms, \\\n",
    "    advise_wide_field, plot_uvcoverage, plot_visibility, weight_visibility,\\\n",
    "    create_image_from_visibility, show_image, export_image_to_fits, \\\n",
    "    image_gather_channels, convert_blockvisibility_to_stokesI, export_blockvisibility_to_ms, \\\n",
    "    concatenate_blockvisibility_frequency, gaintable_plot\n",
    "\n",
    "from rascil.processing_components.flagging.operations import flagging_blockvisibility, \\\n",
    "    flagging_blockvisibility_with_bl\n",
    "\n",
    "from rascil.workflows.rsexecute.execution_support import rsexecute,get_dask_client\n",
    "from rascil.workflows import continuum_imaging_list_rsexecute_workflow, \\\n",
    "    invert_list_rsexecute_workflow, predict_list_rsexecute_workflow, \\\n",
    "    weight_list_rsexecute_workflow\n",
    "from rascil.processing_components import create_calibration_controls\n",
    "from rascil.workflows import calibrate_list_rsexecute_workflow\n",
    "\n",
    "log = logging.getLogger(\"logger\")\n",
    "log.setLevel(logging.DEBUG)\n",
    "log.addHandler(logging.StreamHandler(sys.stdout))\n",
    "\n",
    "mpl_logger = logging.getLogger(\"matplotlib\")\n",
    "mpl_logger.setLevel(logging.WARNING)"
   ]
  },
  {
   "cell_type": "markdown",
   "metadata": {
    "pycharm": {
     "name": "#%% md\n"
    }
   },
   "source": [
    "Read the MeasurementSet"
   ]
  },
  {
   "cell_type": "code",
   "execution_count": 2,
   "metadata": {
    "pycharm": {
     "name": "#%%\n"
    }
   },
   "outputs": [
    {
     "name": "stderr",
     "output_type": "stream",
     "text": [
      "/Users/timcornwell/opt/anaconda3/envs/rascil37/lib/python3.7/site-packages/distributed/nanny.py:164: UserWarning: The local_dir keyword has moved to local_directory\n",
      "  warnings.warn(\"The local_dir keyword has moved to local_directory\")\n"
     ]
    },
    {
     "name": "stdout",
     "output_type": "stream",
     "text": [
      "Diagnostic pages available on port http://127.0.0.1:8787\n"
     ]
    }
   ],
   "source": [
    "client = get_dask_client(create_cluster=False, n_workers=4,\n",
    "                     threads_per_worker=4, memory_limit=\"128GB\")\n",
    "rsexecute.set_client(use_dask=True, client=client )"
   ]
  },
  {
   "cell_type": "code",
   "execution_count": 3,
   "metadata": {
    "ExecuteTime": {
     "end_time": "2020-10-08T14:27:01.148388Z",
     "start_time": "2020-10-08T14:27:01.017105Z"
    },
    "pycharm": {
     "name": "#%%\n"
    }
   },
   "outputs": [],
   "source": [
    "channels = range(60-4, 60+4)\n",
    "\n",
    "bvis_list=[rsexecute.execute(create_blockvisibility_from_ms)\n",
    "           (\"selfmodel.ms\", start_chan=chan, end_chan=chan)[0]\n",
    "           for chan in channels]\n",
    "bvis_list = [rsexecute.execute(convert_blockvisibility_to_stokesI)(bv)\n",
    "             for bv in bvis_list]\n",
    "\n",
    "def flag(bvis):\n",
    "    bad = numpy.abs(bvis.vis) > 6e4\n",
    "    print(numpy.sum(bad))\n",
    "    bvis.flags[...][bad] = 1\n",
    "\n",
    "    bvis = flagging_blockvisibility(bvis, antenna=[8, 9, 10, 11, 27])\n",
    "    do_baselines = False\n",
    "    if do_baselines:\n",
    "        baseline = [[4, 0], [4, 1], [5, 4], [21, 4], [24, 4], [25, 4], [26, 4], [27, 4], [28, 4], [29, 4], [30, 4], [31, 4],\n",
    "        [32, 4], [36, 4], [38, 4], [39, 4]]\n",
    "        baseline.append([[17, 4], [17, 13], [19, 17], [26, 17], [27, 17], [28, 17], [29, 17], [30, 17], [31, 17], [39, 17]])\n",
    "        baseline.append([[19, 0], [19, 2], [19,3], [19, 5], [19, 6], [19, 8], [19, 9], [19, 10], [19, 11], [19, 17]])\n",
    "        baseline.append([[20, 19], [24, 19], [25,19], [26, 19], [27, 19], [28, 19], [29, 19], [30, 19], [31, 19], [34, 19],[36,19],[37,19],[39,19]])\n",
    "        for i in range(28):\n",
    "            baseline.append([28,i])\n",
    "        baseline.append([[30, 28], [32, 28], [33,28], [34, 28], [35, 28], [36, 28], [37, 28], [38, 28], [39, 28]])\n",
    "        for i in range(28):\n",
    "            baseline.append([29,i])\n",
    "        baseline.append([[32, 29], [33,29], [34, 29], [35, 29], [36, 29], [37, 29], [38, 29], [39, 29]])\n",
    "        for i in range(29):\n",
    "            baseline.append([30,i])\n",
    "        baseline.append([[32, 30], [33,30], [34, 30], [35, 30], [36, 30], [37, 30], [38, 30], [39, 30]])\n",
    "        bvis = flagging_blockvisibility_with_bl(bvis, baseline)\n",
    "    return bvis"
   ]
  },
  {
   "cell_type": "code",
   "execution_count": null,
   "metadata": {
    "pycharm": {
     "is_executing": true,
     "name": "#%%\n"
    }
   },
   "outputs": [],
   "source": [
    "bvis_list = [rsexecute.execute(flag)(bv) for bv in bvis_list]\n",
    "bvis_list = rsexecute.compute(bvis_list, sync=True)\n",
    "\n",
    "flagged_bvis = concatenate_blockvisibility_frequency(bvis_list)\n",
    "export_blockvisibility_to_ms(\"selfmodel_flagged.ms\", [flagged_bvis])"
   ]
  },
  {
   "cell_type": "code",
   "execution_count": null,
   "metadata": {
    "pycharm": {
     "is_executing": true,
     "name": "#%%\n"
    }
   },
   "outputs": [],
   "source": [
    "for bv in bvis_list:\n",
    "    plt.clf()\n",
    "    plot_visibility([bv],\n",
    "                    title=\"Frequency {:.3f} GHz\".format(bv.frequency[0]/1e9))\n",
    "    plt.show(block=False)"
   ]
  },
  {
   "cell_type": "code",
   "execution_count": null,
   "metadata": {
    "pycharm": {
     "is_executing": true,
     "name": "#%%\n"
    }
   },
   "outputs": [],
   "source": [
    "print(bvis_list[0])\n",
    "advice=advise_wide_field(bvis_list[-1], guard_band_image=0.5)\n",
    "\n",
    "cellsize=advice[\"cellsize\"]\n",
    "npixel=advice[\"npixels2\"]"
   ]
  },
  {
   "cell_type": "code",
   "execution_count": null,
   "metadata": {
    "pycharm": {
     "is_executing": true,
     "name": "#%%\n"
    }
   },
   "outputs": [],
   "source": [
    "def read_sun_disk_data():\n",
    "    sundisk_file_path = \"quietsundisk400_2000MHz.txt\"\n",
    "    sundisk_file = open(sundisk_file_path, \"r\")\n",
    "    sundisk_dict = {}\n",
    "    try:\n",
    "        while True:\n",
    "            linekey = sundisk_file.readline()\n",
    "            linevalue = sundisk_file.readline()\n",
    "            if linekey and linevalue:\n",
    "                linekey = str(int(float(linekey.strip())))\n",
    "                value = list(map(eval, linevalue.strip().split(',')[1:]))\n",
    "                npvalue = []\n",
    "                for i in range(200):\n",
    "                    npvalue.append(numpy.float32(value[i]))\n",
    "                sundisk_dict[linekey] = numpy.array(npvalue)\n",
    "            else:\n",
    "                return sundisk_dict\n",
    "    finally:\n",
    "        sundisk_file.close()\n"
   ]
  },
  {
   "cell_type": "markdown",
   "metadata": {},
   "source": [
    "Read sun disk model data from the file and generate the Sun disk image"
   ]
  },
  {
   "cell_type": "code",
   "execution_count": null,
   "metadata": {
    "pycharm": {
     "is_executing": true,
     "name": "#%%\n"
    }
   },
   "outputs": [],
   "source": [
    "sundisk_dict = read_sun_disk_data()\n",
    "\n",
    "def fill_solar_model_jy(m):\n",
    "    # fov - minute\n",
    "    size = m.data.shape[2]\n",
    "    cellsize = m.wcs.wcs.cdelt[1] * numpy.pi / 180.0\n",
    "    fov = cellsize*180/numpy.pi * size * 60\n",
    "    # sun disk = 32 arc minute,\n",
    "    sun_radius = 16\n",
    "    scale = sun_radius * 2 / fov\n",
    "    for chan in range(m.data.shape[0]):\n",
    "        frequency = str(int(round(m.frequency[chan] * 1e-6)))\n",
    "        assert frequency in sundisk_dict.keys(), \"Key {} not present\".format(frequency)\n",
    "        sun_disk = sundisk_dict[frequency]\n",
    "        for i in range(size):\n",
    "            for j in range(size):\n",
    "                radius = numpy.sqrt((i-size//2)**2+(j-size//2)**2)*fov/size\n",
    "                if  radius <= sun_radius:\n",
    "                    #print(int(round(radius/32*200,0)))\n",
    "                    m.data[chan,0,i,j] = sun_disk[int(round(radius/32*200))]\n",
    "        # The second polarisation is Q which should be zero (or much less than I)\n",
    "        #m.data[chan,1,...] = 0.0\n",
    "        # Convert from brightness temperature to Jy\n",
    "        wavelength = constants.c.value / m.frequency[chan]\n",
    "        t_to_jy = 1e26 * 2 * constants.k_B.value * cellsize**2 / wavelength**2\n",
    "        m.data *= t_to_jy\n",
    "        return m"
   ]
  },
  {
   "cell_type": "code",
   "execution_count": null,
   "metadata": {
    "pycharm": {
     "is_executing": true,
     "name": "#%%\n"
    }
   },
   "outputs": [],
   "source": [
    "model_list = [rsexecute.execute(create_image_from_visibility)\n",
    "              (bvis, cellsize=cellsize, npixel=npixel,\n",
    "               polarisation_frame=PolarisationFrame(\"stokesI\"))\n",
    "              for bvis in bvis_list]\n",
    "model_list = [rsexecute.execute(fill_solar_model_jy, nout=1)(m) for m in model_list]"
   ]
  },
  {
   "cell_type": "code",
   "execution_count": null,
   "metadata": {
    "pycharm": {
     "is_executing": true,
     "name": "#%%\n"
    }
   },
   "outputs": [],
   "source": [
    "make_model = True\n",
    "if make_model:\n",
    "    model = rsexecute.execute(image_gather_channels, nout=1)(model_list)\n",
    "    model = rsexecute.compute(model, sync=True)\n",
    "\n",
    "    print(model)\n",
    "    export_image_to_fits(model, \"solarmodel_model.fits\")\n",
    "    del model"
   ]
  },
  {
   "cell_type": "code",
   "execution_count": null,
   "metadata": {
    "pycharm": {
     "is_executing": true,
     "name": "#%%\n"
    }
   },
   "outputs": [],
   "source": [
    "bvis_list = rsexecute.scatter(bvis_list)\n",
    "bvis_list = weight_list_rsexecute_workflow(bvis_list, model_list,\n",
    "                                           weighting='robust')\n",
    "from rascil.workflows import zero_list_rsexecute_workflow\n",
    "model_bvis_list = zero_list_rsexecute_workflow(bvis_list)\n",
    "model_bvis_list = predict_list_rsexecute_workflow(model_bvis_list, model_list, context='2d')\n",
    "model_bvis_list = rsexecute.compute(model_bvis_list, sync=True)"
   ]
  },
  {
   "cell_type": "code",
   "execution_count": null,
   "metadata": {
    "pycharm": {
     "is_executing": true,
     "name": "#%%\n"
    }
   },
   "outputs": [],
   "source": [
    "plot_visibility(model_bvis_list)\n",
    "plt.show(block=False)"
   ]
  },
  {
   "cell_type": "code",
   "execution_count": null,
   "metadata": {
    "pycharm": {
     "is_executing": true,
     "name": "#%%\n"
    }
   },
   "outputs": [],
   "source": [
    "model_bvis_list = rsexecute.scatter(model_bvis_list)"
   ]
  },
  {
   "cell_type": "markdown",
   "metadata": {},
   "source": [
    "Make the dirty images"
   ]
  },
  {
   "cell_type": "code",
   "execution_count": null,
   "metadata": {
    "pycharm": {
     "is_executing": true,
     "name": "#%%\n"
    }
   },
   "outputs": [],
   "source": [
    "make_dirty = True\n",
    "if make_dirty:\n",
    "    dirty_list = invert_list_rsexecute_workflow(bvis_list, model_list, context='2d')\n",
    "    dirty_list = rsexecute.compute(dirty_list, sync=True)\n",
    "    dirty = rsexecute.execute(image_gather_channels, nout=1)([d[0] for d in dirty_list])\n",
    "    dirty = rsexecute.compute(dirty, sync=True)\n",
    "\n",
    "    export_image_to_fits(dirty, \"solarmodel_observed_dirty.fits\")\n",
    "\n",
    "    dirty_list = invert_list_rsexecute_workflow(model_bvis_list, model_list, context='2d')\n",
    "    dirty_list = rsexecute.compute(dirty_list, sync=True)\n",
    "    dirty = rsexecute.execute(image_gather_channels, nout=1)([d[0] for d in dirty_list])\n",
    "    dirty = rsexecute.compute(dirty, sync=True)\n",
    "\n",
    "    export_image_to_fits(dirty, \"solarmodel_model_dirty.fits\")\n",
    "    del dirty\n",
    "    del dirty_list"
   ]
  },
  {
   "cell_type": "code",
   "execution_count": null,
   "metadata": {
    "pycharm": {
     "is_executing": true,
     "name": "#%%\n"
    }
   },
   "outputs": [],
   "source": [
    "controls = create_calibration_controls()\n",
    "\n",
    "controls['G']['first_selfcal'] = 0\n",
    "controls['G']['timeslice'] = 10.0\n",
    "controls['G']['phase_only'] = False"
   ]
  },
  {
   "cell_type": "code",
   "execution_count": null,
   "metadata": {
    "pycharm": {
     "name": "#%%\n"
    }
   },
   "outputs": [],
   "source": [
    "controls = create_calibration_controls()\n",
    "controls['G']['first_selfcal'] = 0\n",
    "controls['G']['phase_only'] = False\n",
    "for t_sol in [0.01, 0.1, 1.0, 10.0, 200.0]:\n",
    "    controls['G']['timeslice'] = t_sol\n",
    "    cal_graph = calibrate_list_rsexecute_workflow(bvis_list,\n",
    "                                                  model_bvis_list,\n",
    "                                                  gt_list=None,\n",
    "                                                  calibration_context='G',\n",
    "                                                  controls=controls,\n",
    "                                                  global_solution=False)\n",
    "    cal_bvis_list, gt_list = rsexecute.compute(cal_graph, sync=True)\n",
    "\n",
    "    plt.clf()\n",
    "    for igt, gt in enumerate(gt_list):\n",
    "        title=\"G_{:.2f}s_{:.3f}GHz\".format(t_sol, bvis_list[igt].frequency[0]/1e9)\n",
    "        gaintable_plot(gt['G'], 'G', title=title)\n",
    "        plt.savefig(\"gain_{}.png\".format(title))\n",
    "        plt.show(block=False)"
   ]
  },
  {
   "cell_type": "code",
   "execution_count": null,
   "metadata": {
    "pycharm": {
     "name": "#%%\n"
    }
   },
   "outputs": [],
   "source": [
    "cal_flagged_bvis = concatenate_blockvisibility_frequency(cal_bvis_list)\n",
    "export_blockvisibility_to_ms(\"selfmodel_cal_flagged.ms\", [cal_flagged_bvis])\n",
    "\n"
   ]
  },
  {
   "cell_type": "code",
   "execution_count": null,
   "metadata": {
    "pycharm": {
     "name": "#%%\n"
    }
   },
   "outputs": [],
   "source": [
    "make_dirty = True\n",
    "if make_dirty:\n",
    "    dirty_list = invert_list_rsexecute_workflow(cal_bvis_list, model_list, context='2d')\n",
    "    dirty_list = rsexecute.compute(dirty_list, sync=True)\n",
    "    dirty = rsexecute.execute(image_gather_channels, nout=1)([d[0] for d in dirty_list])\n",
    "    dirty = rsexecute.compute(dirty, sync=True)\n",
    "\n",
    "    export_image_to_fits(dirty, \"solarmodel_calibrated_dirty.fits\")"
   ]
  }
 ],
 "metadata": {
  "kernelspec": {
   "display_name": "Python 3",
   "language": "python",
   "name": "python3"
  },
  "language_info": {
   "codemirror_mode": {
    "name": "ipython",
    "version": 3
   },
   "file_extension": ".py",
   "mimetype": "text/x-python",
   "name": "python",
   "nbconvert_exporter": "python",
   "pygments_lexer": "ipython3",
   "version": "3.7.3"
  }
 },
 "nbformat": 4,
 "nbformat_minor": 1
}
