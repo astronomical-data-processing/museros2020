{
 "cells": [
  {
   "cell_type": "code",
   "execution_count": null,
   "metadata": {
    "collapsed": true
   },
   "outputs": [],
   "source": [
    "import logging\n",
    "import sys\n",
    "\n",
    "import numpy\n",
    "\n",
    "import matplotlib.pyplot as plt\n",
    "\n",
    "import astropy.constants as constants\n",
    "from rascil.data_models import PolarisationFrame\n",
    "from rascil.processing_components import create_blockvisibility_from_ms, \\\n",
    "    create_image_from_visibility, qa_image, export_image_to_fits, \\\n",
    "    flagging_blockvisibility, plot_configuration, plot_uvcoverage, \\\n",
    "    create_visibility_from_rows, weight_visibility, export_blockvisibility_to_ms, \\\n",
    "    create_calibration_controls, gaintable_plot\n",
    "\n",
    "from rascil.workflows import calibrate_list_rsexecute_workflow\n",
    "from rascil.processing_components.imaging.ng import invert_ng, predict_ng\n",
    "\n",
    "from rascil.workflows.rsexecute.execution_support import rsexecute\n",
    "\n",
    "log = logging.getLogger(\"logger\")\n",
    "log.setLevel(logging.DEBUG)\n",
    "log.addHandler(logging.StreamHandler(sys.stdout))"
   ]
  },
  {
   "cell_type": "code",
   "execution_count": null,
   "outputs": [],
   "source": [
    "def flag(bv):\n",
    "    # Flag short spacings (only way to do it currently)\n",
    "    uvdist = numpy.sqrt(bv.u**2+bv.v**2)\n",
    "    bv.data['flags'][uvdist<100.0] = 1\n",
    "\n",
    "    # These dishes do not see the transient\n",
    "    ants = [0, 8, 9, 10, 11, 13, 27]\n",
    "    bv = flagging_blockvisibility(bv, antenna=ants)\n",
    "\n",
    "    # These dishes seem to be anomalous\n",
    "    ants = [18, 20, 33]\n",
    "    bv = flagging_blockvisibility(bv, antenna=ants)\n",
    "\n",
    "    # Flag obviously bad channels\n",
    "    for chan in [0, 1, 16, 17, 32, 33, 48, 49]:\n",
    "        bv.data['flags'][...,chan,:] = 1\n",
    "\n",
    "    # Also see strange visibilities for these channels\n",
    "    for chan in [12, 28, 44, 60, 46]:\n",
    "        bv.data['flags'][...,chan,:] = 1\n",
    "\n",
    "    # Flag high points\n",
    "    bad = numpy.abs(bv.vis) > 6e4\n",
    "    bv.flags[...][bad] = 1\n",
    "\n",
    "    return bv\n",
    "\n",
    "def plot_grid(dirty, name, refchan=52):\n",
    "    polnames = ['I', 'V']\n",
    "    vmax = numpy.max(dirty.data[refchan, 0])\n",
    "    vmin = -0.3 * vmax\n",
    "    for pol in range(2):\n",
    "        fig, axes = plt.subplots(nrows=8, ncols=8, squeeze=False, figsize=(64, 64))\n",
    "        chan = 0\n",
    "\n",
    "        for col in range(8):\n",
    "            for row in range(8):\n",
    "                ax = axes[col, row]\n",
    "                im = ax.imshow(dirty.data[chan, pol, : :], aspect='equal',\n",
    "                               vmax=vmax, vmin=vmin, cmap='rainbow')\n",
    "                ax.set_title('Chan {}'.format(chan), fontsize=32)\n",
    "                ax.invert_yaxis()\n",
    "                ax.axes.xaxis.set_visible(False)\n",
    "                ax.axes.yaxis.set_visible(False)\n",
    "                chan += 1\n",
    "\n",
    "        fig.suptitle(\"{} Stokes {}\".format(name, polnames[pol]), fontsize=64)\n",
    "        plt.savefig(\"{}_Stokes_{}.png\".format(name, polnames[pol]))\n",
    "        plt.show(block=False)\n",
    "        plt.close(fig=fig)"
   ],
   "metadata": {
    "collapsed": false,
    "pycharm": {
     "name": "#%%\n"
    }
   }
  },
  {
   "cell_type": "code",
   "execution_count": null,
   "outputs": [],
   "source": [
    "cellsize = 2e-05\n",
    "npixel = 1024\n",
    "imaging_context = 'ng'\n",
    "image_stokes = PolarisationFrame(\"stokesIV\")\n",
    "\n",
    "entire_bvis = create_blockvisibility_from_ms(\"selfmodel.ms\")[0]"
   ],
   "metadata": {
    "collapsed": false,
    "pycharm": {
     "name": "#%%\n"
    }
   }
  },
  {
   "cell_type": "code",
   "execution_count": null,
   "outputs": [],
   "source": [
    "plt.clf()\n",
    "plot_configuration([entire_bvis], title='MUSER configuration')\n",
    "plt.show(block=False)"
   ],
   "metadata": {
    "collapsed": false,
    "pycharm": {
     "name": "#%%\n"
    }
   }
  },
  {
   "cell_type": "code",
   "execution_count": null,
   "outputs": [],
   "source": [
    "names = entire_bvis.configuration.names\n",
    "diameters = entire_bvis.configuration.diameter\n",
    "for ant, antxyz in enumerate(entire_bvis.configuration.xyz):\n",
    "    print(\"{} \\t{} \\t{}m \\t{}m\".format(ant, names[ant], antxyz, diameters[ant]))"
   ],
   "metadata": {
    "collapsed": false,
    "pycharm": {
     "name": "#%%\n"
    }
   }
  },
  {
   "cell_type": "code",
   "execution_count": null,
   "outputs": [],
   "source": [
    "plt.clf()\n",
    "plot_uvcoverage([entire_bvis], title='MUSER uvcoverage')\n",
    "plt.show(block=False)"
   ],
   "metadata": {
    "collapsed": false,
    "pycharm": {
     "name": "#%%\n"
    }
   }
  },
  {
   "cell_type": "code",
   "execution_count": null,
   "outputs": [],
   "source": [
    "entire_bvis = flag(entire_bvis)\n",
    "export_blockvisibility_to_ms(\"selfmodel_flagged.ms\", [entire_bvis])"
   ],
   "metadata": {
    "collapsed": false,
    "pycharm": {
     "name": "#%%\n"
    }
   }
  },
  {
   "cell_type": "code",
   "execution_count": null,
   "outputs": [],
   "source": [
    "model = create_image_from_visibility(entire_bvis, cellsize=cellsize, npixel=npixel,\n",
    "                                     nchan=64, polarisation_frame=image_stokes)\n",
    "\n",
    "\n",
    "ntimes = len(entire_bvis.time)\n",
    "nchan = entire_bvis.nchan\n",
    "print(\"Size of BlockVis = {:.1f} GB\".format(entire_bvis.size()))"
   ],
   "metadata": {
    "collapsed": false,
    "pycharm": {
     "name": "#%%\n"
    }
   }
  },
  {
   "cell_type": "code",
   "execution_count": null,
   "outputs": [],
   "source": [
    "selfcal = False\n",
    "if selfcal:\n",
    "    def read_sun_disk_data():\n",
    "        sundisk_file_path = \"quietsundisk400_2000MHz.txt\"\n",
    "        sundisk_file = open(sundisk_file_path, \"r\")\n",
    "        sundisk_dict = {}\n",
    "        try:\n",
    "            while True:\n",
    "                linekey = sundisk_file.readline()\n",
    "                linevalue = sundisk_file.readline()\n",
    "                if linekey and linevalue:\n",
    "                    linekey = str(int(float(linekey.strip())))\n",
    "                    value = list(map(eval, linevalue.strip().split(',')[1:]))\n",
    "                    npvalue = []\n",
    "                    for i in range(200):\n",
    "                        npvalue.append(numpy.float32(value[i]))\n",
    "                    sundisk_dict[linekey] = numpy.array(npvalue)\n",
    "                else:\n",
    "                    return sundisk_dict\n",
    "        finally:\n",
    "            sundisk_file.close()\n",
    "\n",
    "    sundisk_dict = read_sun_disk_data()\n",
    "    def fill_solar_model_jy(m):\n",
    "        # fov - minute\n",
    "        size = m.data.shape[2]\n",
    "        cellsize = m.wcs.wcs.cdelt[1] * numpy.pi / 180.0\n",
    "        fov = cellsize*180/numpy.pi * size * 60\n",
    "        # sun disk = 32 arc minute,\n",
    "        sun_radius = 16\n",
    "        for chan in range(m.data.shape[0]):\n",
    "            frequency = str(int(round(m.frequency[chan] * 1e-6)))\n",
    "            assert frequency in sundisk_dict.keys(), \"Key {} not present\".format(frequency)\n",
    "            sun_disk = sundisk_dict[frequency]\n",
    "            for i in range(size):\n",
    "                for j in range(size):\n",
    "                    radius = numpy.sqrt((i-size//2)**2+(j-size//2)**2)*fov/size\n",
    "                    if  radius <= sun_radius:\n",
    "                        #print(int(round(radius/32*200,0)))\n",
    "                        m.data[chan,0,i,j] = sun_disk[int(round(radius/32*200))]\n",
    "            # The second polarisation is V which should be zero (or much less than I)\n",
    "            m.data[chan,1,...] = 0.0\n",
    "            # Convert from brightness temperature to Jy\n",
    "            wavelength = constants.c.value / m.frequency[chan]\n",
    "            t_to_jy = 1e26 * 2 * constants.k_B.value * cellsize**2 / wavelength**2\n",
    "            m.data *= t_to_jy\n",
    "            return m\n",
    "\n",
    "    solar_model = fill_solar_model_jy(model)\n",
    "\n",
    "    model_bvis = predict_ng(entire_bvis, solar_model, do_wstacking=False, verbosity=2)\n",
    "\n",
    "    #%%\n",
    "\n",
    "    controls = create_calibration_controls()\n",
    "    controls['B']['first_selfcal'] = 0\n",
    "    controls['B']['phase_only'] = False\n",
    "    t_sol = 1.0\n",
    "    controls['B']['timeslice'] = t_sol\n",
    "    rsexecute.set_client(use_dask=False)\n",
    "    cal_graph = calibrate_list_rsexecute_workflow([entire_bvis],\n",
    "                                                  [model_bvis],\n",
    "                                                  gt_list=None,\n",
    "                                                  calibration_context='B',\n",
    "                                                  controls=controls,\n",
    "                                                  global_solution=False)\n",
    "    cal_bvis_list, gt_list = rsexecute.compute(cal_graph, sync=True)\n",
    "\n",
    "    plt.clf()\n",
    "    igt = 0\n",
    "    title=\"Bandpass_{:.2f}s_{:.3f}GHz\".format(t_sol, cal_bvis_list[0].frequency[0]/1e9)\n",
    "    gaintable_plot(gt_list[0]['B'], 'B', title=title)\n",
    "    plt.savefig(\"{}.png\".format(title))\n",
    "    plt.show(block=False)\n",
    "\n",
    "    entire_bvis = cal_bvis_list[0]\n"
   ],
   "metadata": {
    "collapsed": false,
    "pycharm": {
     "name": "#%%\n"
    }
   }
  },
  {
   "cell_type": "code",
   "execution_count": null,
   "outputs": [],
   "source": [
    "allvis = numpy.arange(ntimes)\n",
    "on = (allvis > 2224) & (allvis<2947)\n",
    "off = (allvis <= 2224) | (allvis>=2947)"
   ],
   "metadata": {
    "collapsed": false,
    "pycharm": {
     "name": "#%%\n"
    }
   }
  },
  {
   "cell_type": "code",
   "execution_count": null,
   "outputs": [],
   "source": [
    "for mode in [(\"on\", on), (\"off\", off)]:\n",
    "    bvis = create_visibility_from_rows(entire_bvis, mode[1])\n",
    "    model = create_image_from_visibility(bvis, cellsize=cellsize, npixel=npixel,\n",
    "                                         nchan=64, polarisation_frame=image_stokes)\n",
    "    bvis = weight_visibility(bvis, model, weighting=\"robust\")\n",
    "    dirty, sumwt = invert_ng(bvis, model, do_wstacking=False, threads=8, verbosity=2)\n",
    "    print(qa_image(dirty, context=mode[0]))\n",
    "    export_image_to_fits(dirty, \"muser_movie_channels_baselines_flag_{}.fits\".format(mode[0]))\n",
    "    plot_grid(dirty, \"muser_movie_channels_baselines_flag_{}\".format(mode[0]))\n",
    "\n"
   ],
   "metadata": {
    "collapsed": false,
    "pycharm": {
     "name": "#%%\n"
    }
   }
  }
 ],
 "metadata": {
  "kernelspec": {
   "display_name": "Python 3",
   "language": "python",
   "name": "python3"
  },
  "language_info": {
   "codemirror_mode": {
    "name": "ipython",
    "version": 2
   },
   "file_extension": ".py",
   "mimetype": "text/x-python",
   "name": "python",
   "nbconvert_exporter": "python",
   "pygments_lexer": "ipython2",
   "version": "2.7.6"
  }
 },
 "nbformat": 4,
 "nbformat_minor": 0
}