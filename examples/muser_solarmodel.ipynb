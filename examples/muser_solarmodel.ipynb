{
 "cells": [
  {
   "cell_type": "code",
   "execution_count": 3,
   "metadata": {
    "ExecuteTime": {
     "end_time": "2020-10-08T14:27:01.015357Z",
     "start_time": "2020-10-08T14:26:59.550654Z"
    }
   },
   "outputs": [],
   "source": [
    "import logging\n",
    "import sys\n",
    "\n",
    "import numpy\n",
    "\n",
    "from matplotlib import pylab\n",
    "\n",
    "pylab.rcParams['figure.figsize'] = (8.0, 8.0)\n",
    "pylab.rcParams['image.cmap'] = 'rainbow'\n",
    "\n",
    "import matplotlib.pyplot as plt\n",
    "\n",
    "from rascil.data_models import PolarisationFrame\n",
    "from rascil.processing_components import create_blockvisibility_from_ms, \\\n",
    "    advise_wide_field, plot_uvcoverage, plot_visibility, weight_visibility,\\\n",
    "    create_image_from_visibility, show_image, export_image_to_fits\n",
    "\n",
    "from rascil.processing_components.imaging.ng import invert_ng\n",
    "from rascil.workflows.rsexecute.execution_support import rsexecute\n",
    "from rascil.workflows.rsexecute.pipelines import continuum_imaging_list_rsexecute_workflow\n",
    "\n",
    "log = logging.getLogger()\n",
    "log.setLevel(logging.DEBUG)\n",
    "log.addHandler(logging.StreamHandler(sys.stdout))\n",
    "\n",
    "mpl_logger = logging.getLogger(\"matplotlib\")\n",
    "mpl_logger.setLevel(logging.WARNING)"
   ]
  },
  {
   "cell_type": "markdown",
   "metadata": {
    "pycharm": {
     "name": "#%% md\n"
    }
   },
   "source": [
    "Read the MeasurementSet"
   ]
  },
  {
   "cell_type": "code",
   "execution_count": 4,
   "metadata": {
    "ExecuteTime": {
     "end_time": "2020-10-08T14:27:01.148388Z",
     "start_time": "2020-10-08T14:27:01.017105Z"
    },
    "pycharm": {
     "name": "#%%\n"
    }
   },
   "outputs": [
    {
     "name": "stdout",
     "output_type": "stream",
     "text": [
      "create_blockvisibility_from_ms: {'type': 'Measurement Set', 'subType': '', 'readme': 'This is a MeasurementSet Table holding measurements from a Telescope\\n'}\n",
      "create_blockvisibility_from_ms: Reading unique fields [0], unique data descriptions [0]\n",
      "create_blockvisibility_from_ms: Found 2770560 rows\n",
      "create_blockvisibility_from_ms: Found 64 channels\n",
      "create_blockvisibility_from_ms: Reading all 64 channels\n",
      "create_blockvisibility_from_ms: Observation from 2015-11-22 04:50:31.020 to 2015-11-22 04:51:59.995\n",
      "BlockVisibility:\n",
      "\tSource SUN\n",
      "\tPhasecentre: <SkyCoord (ICRS): (ra, dec) in deg\n",
      "    (237.3576405, -20.05175896)>\n",
      "\tNumber of visibility blocks: 3552\n",
      "\tNumber of integrations: 3552\n",
      "\tVisibility shape: (3552, 40, 40, 64, 2)\n",
      "\tNumber of flags: 372817920\n",
      "\tNumber of channels: 64\n",
      "\tFrequency: [4.000e+08 4.250e+08 4.500e+08 4.750e+08 5.000e+08 5.250e+08 5.500e+08\n",
      " 5.750e+08 6.000e+08 6.250e+08 6.500e+08 6.750e+08 7.000e+08 7.250e+08\n",
      " 7.500e+08 7.750e+08 8.000e+08 8.250e+08 8.500e+08 8.750e+08 9.000e+08\n",
      " 9.250e+08 9.500e+08 9.750e+08 1.000e+09 1.025e+09 1.050e+09 1.075e+09\n",
      " 1.100e+09 1.125e+09 1.150e+09 1.175e+09 1.200e+09 1.225e+09 1.250e+09\n",
      " 1.275e+09 1.300e+09 1.325e+09 1.350e+09 1.375e+09 1.400e+09 1.425e+09\n",
      " 1.450e+09 1.475e+09 1.500e+09 1.525e+09 1.550e+09 1.575e+09 1.600e+09\n",
      " 1.625e+09 1.650e+09 1.675e+09 1.700e+09 1.725e+09 1.750e+09 1.775e+09\n",
      " 1.800e+09 1.825e+09 1.850e+09 1.875e+09 1.900e+09 1.925e+09 1.950e+09\n",
      " 1.975e+09]\n",
      "\tChannel bandwidth: [25000000. 25000000. 25000000. 25000000. 25000000. 25000000. 25000000.\n",
      " 25000000. 25000000. 25000000. 25000000. 25000000. 25000000. 25000000.\n",
      " 25000000. 25000000. 25000000. 25000000. 25000000. 25000000. 25000000.\n",
      " 25000000. 25000000. 25000000. 25000000. 25000000. 25000000. 25000000.\n",
      " 25000000. 25000000. 25000000. 25000000. 25000000. 25000000. 25000000.\n",
      " 25000000. 25000000. 25000000. 25000000. 25000000. 25000000. 25000000.\n",
      " 25000000. 25000000. 25000000. 25000000. 25000000. 25000000. 25000000.\n",
      " 25000000. 25000000. 25000000. 25000000. 25000000. 25000000. 25000000.\n",
      " 25000000. 25000000. 25000000. 25000000. 25000000. 25000000. 25000000.\n",
      " 25000000.]\n",
      "\tNumber of polarisations: 2\n",
      "\tPolarisation Frame: circularnp\n",
      "\tConfiguration: \n",
      "\tMetadata: {'MSV2': {'FIELD_ID': 0, 'DATA_DESC_ID': 0}}\n",
      "\n",
      "advise_wide_field: (max_wavelength) Maximum wavelength 0.749 (meters)\n",
      "advise_wide_field: (min_wavelength) Minimum wavelength 0.152 (meters)\n",
      "advise_wide_field: (maximum_baseline) Maximum baseline 19293.2 (wavelengths)\n",
      "advise_wide_field: (maximum_w) Maximum w 19293.2 (wavelengths)\n",
      "advise_wide_field: (diameter) Station/dish diameter 4.5 (meters)\n",
      "advise_wide_field: (primary_beam_fov) Primary beam 0.167 (rad) 9.54 (deg) 3.44e+04 (asec)\n",
      "advise_wide_field: (image_fov) Image field of view 0.0833 (rad) 4.77 (deg) 1.72e+04 (asec)\n",
      "advise_wide_field: (synthesized_beam) Synthesized beam 5.18e-05 (rad) 0.00297 (deg) 10.7 (asec)\n",
      "advise_wide_field: (cellsize) Cellsize 1.73e-05 (rad) 0.00099 (deg) 3.56 (asec)\n",
      "advice_wide_field: (npixels) Npixels per side = 4820\n",
      "advice_wide_field: (npixels2) Npixels (power of 2) per side = 8192\n",
      "advice_wide_field: (npixels23) Npixels (power of 2, 3) per side = 6144\n",
      "advice_wide_field: (npixels_min) Npixels (power of 2, 3, 4, 5) per side = 6561\n",
      "advice_wide_field: (w_sampling_image) W sampling for full image = 9.2 (wavelengths)\n",
      "advice_wide_field: (w_sampling_primary_beam) W sampling for primary beam = 2.3 (wavelengths)\n",
      "advice_wide_field: (time_sampling_image) Time sampling for full image = 53.8 (s)\n",
      "advice_wide_field: (time_sampling_primary_beam) Time sampling for primary beam = 26.9 (s)\n",
      "advice_wide_field: (freq_sampling_image) Frequency sampling for full image = 1229265.5 (Hz)\n",
      "advice_wide_field: (freq_sampling_primary_beam) Frequency sampling for primary beam = 614632.8 (Hz)\n",
      "advice_wide_field: (vis_slices) Number of planes in w stack 16813 (primary beam)\n",
      "advice_wide_field: (wprojection_planes) Number of planes in w projection 16813 (primary beam)\n",
      "advice_wide_field: (nwpixels) W support = 5600 (pixels) (primary beam)\n",
      "create_image_from_visibility: Parsing parameters to get definition of WCS\n",
      "create_image_from_visibility: Defining 64 channel Image at <SkyCoord (ICRS): (ra, dec) in deg\n",
      "    (237.3576405, -20.05175896)>, starting frequency 400000000.0 Hz, and bandwidth 24999999.99975 Hz\n",
      "create_image_from_visibility: uvmax = 18866.863881 wavelengths\n",
      "create_image_from_visibility: Critical cellsize = 0.000027 radians, 0.001518 degrees\n",
      "create_image_from_visibility: Cellsize          = 1.72773e-05 radians, 0.000989916 degrees\n",
      "create_image_from_visibility: image shape is [64, 2, 1024, 1024]\n",
      "create_image_from_array: created float64 image of shape (64, 2, 1024, 1024), size 1.000 (GB)\n",
      "Image:\n",
      "\tShape: (64, 2, 1024, 1024)\n",
      "\tData type: float64\n",
      "\tWCS: WCS Keywords\n",
      "\n",
      "Number of WCS axes: 4\n",
      "CTYPE : 'RA---SIN'  'DEC--SIN'  'STOKES'  'FREQ'  \n",
      "CRVAL : 237.35764049641745  -20.051758962143616  1.0  400000000.0  \n",
      "CRPIX : 513.0  513.0  1.0  1.0  \n",
      "PC1_1 PC1_2 PC1_3 PC1_4  : 1.0  0.0  0.0  0.0  \n",
      "PC2_1 PC2_2 PC2_3 PC2_4  : 0.0  1.0  0.0  0.0  \n",
      "PC3_1 PC3_2 PC3_3 PC3_4  : 0.0  0.0  1.0  0.0  \n",
      "PC4_1 PC4_2 PC4_3 PC4_4  : 0.0  0.0  0.0  1.0  \n",
      "CDELT : -0.0009899156176878515  0.0009899156176878515  1.0  24999999.99975  \n",
      "NAXIS : 0  0\n",
      "\tPolarisation frame: stokesIV\n",
      "\n"
     ]
    }
   ],
   "source": [
    "bvis=create_blockvisibility_from_ms(\"/Users/wangfeng/work/muserdata/output/selfmodel.ms\")[0]\n",
    "# bvis=create_blockvisibility_from_ms(\"/Users/wangfeng/work/muserdata/output/selfmodel.ms\",start_chan=63,end_chan=63)[0]\n",
    "\n",
    "print(bvis)\n",
    "advice=advise_wide_field(bvis, guard_band_image=0.5) #,oversampling_synthesised_beam=3)\n",
    "\n",
    "cellsize=advice[\"cellsize\"]\n",
    "model=create_image_from_visibility(bvis, cellsize=cellsize, npixel=1024,\n",
    "                                   polarisation_frame=PolarisationFrame(\"stokesIV\"))\n",
    "\n",
    "print(model)\n"
   ]
  },
  {
   "cell_type": "code",
   "execution_count": 5,
   "metadata": {},
   "outputs": [],
   "source": [
    "def solve_antenna_gains_itsubs_nocrossdata(gain, gwt, x, xwt, niter=30, tol=1e-8, phase_only=True, refant=0):\n",
    "    \"\"\"Solve for the antenna gains using full matrix expressions, but no cross hands\n",
    "    x(antenna2, antenna1) = gain(antenna1) conj(gain(antenna2))\n",
    "    See Appendix D, section D.1 in:\n",
    "    J. P. Hamaker, \"Understanding radio polarimetry - IV. The full-coherency analogue of\n",
    "    scalar self-calibration: Self-alignment, dynamic range and polarimetric fidelity,\" Astronomy\n",
    "    and Astrophysics Supplement Series, vol. 143, no. 3, pp. 515–534, May 2000.\n",
    "    :param gain: gains\n",
    "    :param gwt: gain weight\n",
    "    :param x: Equivalent point source visibility[nants, nants, ...]\n",
    "    :param xwt: Equivalent point source weight [nants, nants, ...]\n",
    "    :param niter: Number of iterations\n",
    "    :param tol: tolerance on solution change\n",
    "    :param phase_only: Do solution for only the phase? (default True)\n",
    "    :param refant: Reference antenna for phase (default=0.0)\n",
    "    :return: gain [nants, ...], weight [nants, ...]\n",
    "    \"\"\"\n",
    "    # This implementation is sub-optimal. TODO: Reimplement IQ, IV calibration\n",
    "    nants, _, nchan, npol = x.shape\n",
    "    assert npol == 2\n",
    "    newshape = (nants, nants, nchan, 4)\n",
    "    x_fill = numpy.zeros(newshape, dtype='complex')\n",
    "    x_fill[..., 0] = x[..., 0]\n",
    "    x_fill[..., 3] = x[..., 1]\n",
    "    xwt_fill = numpy.zeros(newshape, dtype='float')\n",
    "    xwt_fill[..., 0] = xwt[..., 0]\n",
    "    xwt_fill[..., 3] = xwt[..., 1]\n",
    "    return solve_antenna_gains_itsubs_matrix(gain, gwt, x_fill, xwt_fill, niter=niter, tol=tol, phase_only=phase_only,\n",
    "                                             refant=refant)\n",
    "\n",
    "def read_sun_disk_data():\n",
    "    sundisk_file_path = \"quietsundisk400_2000MHz.txt\"\n",
    "    sundisk_file = open(sundisk_file_path, \"r\")\n",
    "    sundisk_dict = {}\n",
    "    try:\n",
    "        while True:\n",
    "            linekey = sundisk_file.readline()\n",
    "            linevalue = sundisk_file.readline()\n",
    "            if linekey and linevalue:\n",
    "                linekey = float(linekey.strip())\n",
    "                value = list(map(eval, linevalue.strip().split(',')[1:]))\n",
    "                npvalue = []\n",
    "                for i in range(200):\n",
    "                    npvalue.append(numpy.float32(value[i]))\n",
    "                sundisk_dict[linekey] = numpy.array(npvalue)\n",
    "            else:\n",
    "                return sundisk_dict\n",
    "    finally:\n",
    "        sundisk_file.close()\n"
   ]
  },
  {
   "cell_type": "markdown",
   "metadata": {},
   "source": [
    "Read sun disk model data from the file"
   ]
  },
  {
   "cell_type": "code",
   "execution_count": 6,
   "metadata": {},
   "outputs": [],
   "source": [
    "sundisk_dict = read_sun_disk_data()"
   ]
  },
  {
   "cell_type": "markdown",
   "metadata": {},
   "source": [
    "Generate the Sun disk image"
   ]
  },
  {
   "cell_type": "code",
   "execution_count": 9,
   "metadata": {},
   "outputs": [
    {
     "name": "stdout",
     "output_type": "stream",
     "text": [
      "1.7277286845566425e-05 60.82041555074159 16 0.5261391213827348\n"
     ]
    }
   ],
   "source": [
    "# fov - minute\n",
    "size = model.data.shape[2]\n",
    "fov = cellsize*180/numpy.pi * size * 60\n",
    "# sun disk = 32 arc minute, \n",
    "sun_radius = 16  \n",
    "scale = sun_radius * 2 / fov\n",
    "print(cellsize, fov,sun_radius,scale)\n",
    "for freq in range(model.data.shape[0]):\n",
    "    frequency=400.+freq*25\n",
    "    sun_disk = sundisk_dict[frequency]\n",
    "    x0 = y0 = size //2 \n",
    "    for i in range(size):\n",
    "        for j in range(size):\n",
    "            radius = numpy.sqrt((i-size//2)**2+(j-size//2)**2)*fov/size\n",
    "            if  radius <= 16:\n",
    "                #print(int(round(radius/32*200,0)))\n",
    "                model.data[freq,0,i,j] = sun_disk[int(round(radius/32*200))]\n",
    "    model.data[freq,1,...] = model.data[freq,0,...]\n",
    "\n"
   ]
  },
  {
   "cell_type": "code",
   "execution_count": 10,
   "metadata": {},
   "outputs": [],
   "source": [
    "export_image_to_fits(model, \"selfmodel_model.fits\")"
   ]
  },
  {
   "cell_type": "code",
   "execution_count": null,
   "metadata": {},
   "outputs": [],
   "source": [
    "from rascil.processing_components.imaging.ng import predict_ng, invert_ng\n",
    "\n",
    "newvis = predict_ng(bvis, model)\n",
    "plot_visibility([newvis], title=\"Predicted vis\", plot_file=\"selfmodel_predictedvis.png\")\n",
    "plt.show()"
   ]
  },
  {
   "cell_type": "code",
   "execution_count": null,
   "metadata": {},
   "outputs": [],
   "source": []
  }
 ],
 "metadata": {
  "kernelspec": {
   "display_name": "Python 3",
   "language": "python",
   "name": "python3"
  },
  "language_info": {
   "codemirror_mode": {
    "name": "ipython",
    "version": 3
   },
   "file_extension": ".py",
   "mimetype": "text/x-python",
   "name": "python",
   "nbconvert_exporter": "python",
   "pygments_lexer": "ipython3",
   "version": "3.7.6"
  }
 },
 "nbformat": 4,
 "nbformat_minor": 1
}